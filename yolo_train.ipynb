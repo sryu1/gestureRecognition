{
 "cells": [
  {
   "cell_type": "code",
   "execution_count": null,
   "id": "e1ecbc84",
   "metadata": {},
   "outputs": [],
   "source": [
    "# Load all requiremented modules\n",
    "%pip install -r requirements.txt\n",
    "# Download the dataset\n",
    "%git clone https://huggingface.co/datasets/CNGR/YOLO-GR --depth 1\n",
    "# Enter the dataset directory\n",
    "%cd YOLO-GR"
   ]
  },
  {
   "cell_type": "code",
   "execution_count": null,
   "id": "18883ba2",
   "metadata": {},
   "outputs": [],
   "source": [
    "import ultralytics\n",
    "ultralytics.checks()"
   ]
  },
  {
   "cell_type": "code",
   "execution_count": null,
   "id": "a50eb0ab",
   "metadata": {},
   "outputs": [],
   "source": [
    "from ultralytics import YOLO\n",
    "# n is much faster than s in terms of training and prediction speed, but s is most likely more accurate\n",
    "model = YOLO(\"yolo12s.pt\")"
   ]
  },
  {
   "cell_type": "code",
   "execution_count": null,
   "id": "5b1e12c5",
   "metadata": {},
   "outputs": [],
   "source": [
    "model.train(data=\"data.yaml\")"
   ]
  },
  {
   "cell_type": "code",
   "execution_count": null,
   "id": "f0a0be11",
   "metadata": {},
   "outputs": [],
   "source": [
    "# New models trained will create new train folders\n",
    "model = YOLO(\"runs/detect/train0/weights/best.pt\")"
   ]
  }
 ],
 "metadata": {
  "kernelspec": {
   "display_name": "Python 3",
   "language": "python",
   "name": "python3"
  },
  "language_info": {
   "name": "python",
   "version": "3.12.6"
  }
 },
 "nbformat": 4,
 "nbformat_minor": 5
}
